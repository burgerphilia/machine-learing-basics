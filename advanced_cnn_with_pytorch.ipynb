{
 "cells": [
  {
   "cell_type": "markdown",
   "metadata": {},
   "source": [
    "## AlexNet\n",
    "---\n",
    "$AlexNet$은 5개의 컨볼루션층(convolution layer)와 분류를 위한 3개의 완전연결층(fully connected layer)로 이루어져 있습니다. 입력으로는 $ImageNet$의 데이터(3\\*244\\*244의 RGB 채널 이미지)를 사용했고, 첫 번째 컨볼루션층에서 3\\*11\\*11 필터 96개를 사용했습니다."
   ]
  },
  {
   "cell_type": "code",
   "execution_count": null,
   "metadata": {
    "collapsed": true
   },
   "outputs": [],
   "source": [
    "class AlexNet(nn.Module):\n",
    "    def __init__(self, n_classes=2):\n",
    "        super(AlexNet, self).__init__()\n",
    "        self.conv1 = nn.Sequential(nn.Conv2d(1, 96, kernel_size=11, stride=4, padding=1), \n",
    "                                    nn.BatchNorm2d(96), \n",
    "                                    nn.ReLU(), \n",
    "                                    nn.MaxPool2d(3, stride=2)\n",
    "                                  )\n",
    "        self.conv2 = nn.Sequential(nn.Conv2d(96, 256, kernel_size=5, stride=1, padding=1), \n",
    "                                    nn.BatchNorm2d(256), \n",
    "                                    nn.ReLU(), \n",
    "                                    nn.MaxPool2d(3, stride=2)\n",
    "                                  )\n",
    "        self.conv3 = nn.Sequential(nn.Conv2d(256, 384, kernel_size=3, stride=1, padding=1), \n",
    "                                    nn.ReLU()\n",
    "                                  )\n",
    "        self.conv4 = nn.Sequential(nn.Conv2d(384, 384, kernel_size=3, stride=1, padding=1), \n",
    "                                   nn.ReLU()\n",
    "                                  )\n",
    "        self.conv5 = nn.Sequential(nn.Conv2d(384, 256, kernel_size=3, stride=1, padding=1), \n",
    "                                   nn.ReLU()\n",
    "                                  )\n",
    "        self.fc1 = nn.Sequential(nn.Linear(4096, 4096), nn.ReLU())\n",
    "        self.fc2 = nn.Sequential(nn.Linear(4096, 4096), nn.ReLU())\n",
    "        self.fc3 = nn.Sequential(nn.Linear(4096, n_classes), nn.Softmax())\n",
    "    \n",
    "    def forward(self, x):\n",
    "        out = self.conv1(x)\n",
    "        out = self.conv2(out)\n",
    "        out = self.conv3(out)\n",
    "        out = self.conv4(out)\n",
    "        out = self.conv5(out)\n",
    "        out = out.reshape(out.size(0), -1)\n",
    "        out = self.fc1(out)\n",
    "        out = self.fc2(out)\n",
    "        out = self.fc3(out)\n",
    "        \n",
    "        return out"
   ]
  },
  {
   "cell_type": "markdown",
   "metadata": {},
   "source": [
    "##  VGGNet\n",
    "---\n",
    "$VGGNet$을 한 마디로 요약하면 '더 작은 필터, 더 깊은 층'이 되겠습니다. 3\\*3 필터를 사용해 더 깊은 신경망을 구성했고, 13개의 컨볼루션층과 3개의 완전연결층을 사용했습니다($VGG-16$의 경우)."
   ]
  },
  {
   "cell_type": "code",
   "execution_count": null,
   "metadata": {
    "collapsed": true
   },
   "outputs": [],
   "source": [
    "class VGG16(nn.Module):\n",
    "    def __init__(self, n_classes=2):\n",
    "        super(VGG16, self).__init__()\n",
    "        self.conv1 = nn.Sequential(nn.Conv2d(1, 64, kernel_size=3, stride=1, padding=1), \n",
    "                                   nn.ReLU(), \n",
    "                                   nn.Conv2d(64, 128, kernel_size=3, stride=1, padding=1), \n",
    "                                   nn.ReLU(), \n",
    "                                   nn.MaxPool2d(2, stride=2)\n",
    "                                  )\n",
    "        self.conv2 = nn.Sequential(nn.Conv2d(128, 128, kernel_size=3, stride=1, padding=1), \n",
    "                                   nn.ReLU(), \n",
    "                                   nn.Conv2d(128, 256, kernel_size=3, stride=1, padding=1), \n",
    "                                   nn.ReLU(), \n",
    "                                   nn.MaxPool2d(2, stride=2)\n",
    "                                  )\n",
    "        self.conv3 = nn.Sequential(nn.Conv2d(256, 256, kernel_size=3, stride=1, padding=1), \n",
    "                                   nn.ReLU(), \n",
    "                                   nn.Conv2d(256, 256, kernel_size=3, stride=1, padding=1), \n",
    "                                   nn.ReLU(), \n",
    "                                   nn.Conv2d(256, 512, kernel_size=3, stride=1, padding=1), \n",
    "                                   nn.MaxPool2d(2, stride=2)\n",
    "                                  )\n",
    "        self.conv4 = nn.Sequential(nn.Conv2d(512, 512, kernel_size=3, stride=1, padding=1), \n",
    "                                   nn.ReLU(), \n",
    "                                   nn.Conv2d(512, 512, kernel_size=3, stride=1, padding=1), \n",
    "                                   nn.ReLU(), \n",
    "                                   nn.Conv2d(512, 512, kernel_size=3, stride=1, padding=1), \n",
    "                                   nn.ReLU(), \n",
    "                                   nn.MaxPool2d(2, stride=2)\n",
    "                                  )\n",
    "        self.conv5 = nn.Sequential(nn.Conv2d(512, 512, kernel_size=3, stride=1, padding=1), \n",
    "                                   nn.ReLU(), \n",
    "                                   nn.Conv2d(512, 512, kernel_size=3, stride=1, padding=1), \n",
    "                                   nn.ReLU(), \n",
    "                                   nn.Conv2d(512, 512, kernel_size=3, stride=1, padding=1), \n",
    "                                   nn.ReLU(), \n",
    "                                   nn.MaxPool2d(2, stride=2)\n",
    "                                  )\n",
    "        self.fc = nn.Sequential(nn.Linear(4096, 4096), \n",
    "                                nn.ReLU(), \n",
    "                                nn.Linear(4096, 4096), \n",
    "                                nn.ReLU(), \n",
    "                                nn.Linear(4096, n_classes), \n",
    "                                nn.Softmax())\n",
    "        \n",
    "    def forward(self, x):\n",
    "        out = self.conv1(x)\n",
    "        out = self.conv2(out)\n",
    "        out = self.conv3(out)\n",
    "        out = self.conv4(out)\n",
    "        out = self.conv5(out)\n",
    "        out = out.reshape(out.size(0), -1)\n",
    "        out = self.fc(out)\n",
    "        \n",
    "        return out"
   ]
  },
  {
   "cell_type": "markdown",
   "metadata": {},
   "source": [
    "## GoogLeNet\n",
    "---\n",
    "$Network In Network$($NIN$)에서 영감을 얻은 $Inception module$을 사용했습니다. 기존 컨볼루션 연산이 필터와 입력값의 선형조합으로 이루어진 반면 $NIN$에서는 MLP가 들어갑니다."
   ]
  },
  {
   "cell_type": "code",
   "execution_count": null,
   "metadata": {
    "collapsed": true
   },
   "outputs": [],
   "source": [
    "class GoogLeNet(nn.Module):\n",
    "    def __init__(self, n_classes=2):\n",
    "        super(GoogLeNet, self).__init__()"
   ]
  }
 ],
 "metadata": {
  "kernelspec": {
   "display_name": "Python 3",
   "language": "python",
   "name": "python3"
  },
  "language_info": {
   "codemirror_mode": {
    "name": "ipython",
    "version": 3
   },
   "file_extension": ".py",
   "mimetype": "text/x-python",
   "name": "python",
   "nbconvert_exporter": "python",
   "pygments_lexer": "ipython3",
   "version": "3.6.4"
  }
 },
 "nbformat": 4,
 "nbformat_minor": 2
}
